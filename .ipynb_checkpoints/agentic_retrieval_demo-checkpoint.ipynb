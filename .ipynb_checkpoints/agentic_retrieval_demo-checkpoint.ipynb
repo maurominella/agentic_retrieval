{
 "cells": [
  {
   "cell_type": "markdown",
   "id": "d3023f7f-6b7b-4597-93b5-673f17a7c2bb",
   "metadata": {},
   "source": [
    "# [Quickstart: Use agentic retrieval in Azure AI Search](https://learn.microsoft.com/en-us/azure/search/search-get-started-agentic-retrieval?tabs=foundry-perms%2Cfoundry-endpoint&pivots=programming-language-python)\n",
    "\n",
    "In this quickstart, you use [*agentic retrieval*](https://learn.microsoft.com/en-us/azure/search/search-agentic-retrieval-concept) to create a conversational search experience powered by documents indexed in Azure AI Search and large language models (LLMs) from Azure OpenAI in Azure AI Foundry Models.\n",
    "\n",
    "A knowledge agent orchestrates agentic retrieval by decomposing complex queries into subqueries, running the subqueries against one or more knowledge sources, and returning results with metadata. By default, the agent outputs raw content from your sources, but this quickstart uses the answer synthesis modality for natural-language answer generation.\n",
    "\n",
    "Although you can provide your own data, this quickstart uses [sample JSON documents](https://github.com/Azure-Samples/azure-search-sample-data/tree/main/nasa-e-book/earth-at-night-json) from NASA's Earth at Night e-book. The documents describe general science topics and images of Earth at night as observed from space."
   ]
  },
  {
   "cell_type": "markdown",
   "id": "e9284073-dbe9-4307-bc99-dcc943a66467",
   "metadata": {},
   "source": [
    "# Configure access\n",
    "Before you begin, make sure you have permissions to access content and operations. We recommend Microsoft Entra ID for authentication and role-based access for authorization. You must be an Owner or User Access Administrator to assign roles. If roles aren't feasible, use key-based authentication instead.\n",
    "\n",
    "To configure access for this quickstart, select both Azure AI Search and Azure AI Foundry:\n",
    "\n",
    "## Azure AI Search\n",
    "Azure AI Search provides the agentic retrieval pipeline. Configure access for yourself and your search service to read and write data, interact with Azure AI Foundry, and run the pipeline. To configure access for Azure AI Search:\n",
    "1. Sign in to the Azure portal and select your Azure AI Foundry resource.\n",
    "2. Enable role-based access.\n",
    "3. Create a system-assigned managed identity.\n",
    "4. Assign the following roles to yourself:\n",
    "- Search Service Contributor\n",
    "- Search Index Data Contributor\n",
    "- Search Index Data Reader\n",
    "\n",
    "## Azure AI Foundry\n",
    "Azure AI Foundry provides the Azure OpenAI models used for embeddings, query planning, and answer generation. Grant your search service permission to use these models. To configure access for Azure AI Foundry:\n",
    "1. Sign in to the Azure portal and select your Azure AI Foundry resource.\n",
    "2. Assign `Cognitive Services User` to the managed identity of your search service."
   ]
  },
  {
   "cell_type": "markdown",
   "id": "bffe41d3-37c8-4e38-be5b-49afa2d406d9",
   "metadata": {},
   "source": [
    "# Constants and Libraries\n",
    "The following variables are loaded from credentials_my.env:\n",
    "- search_endpoint\n",
    "- aoai_endpoint\n",
    "- aoai_embedding_model\n",
    "- aoai_embedding_deployment\n",
    "- aoai_gpt_model\n",
    "- aoai_gpt_deployment\n",
    "- index_name\n",
    "- knowledge_source_name\n",
    "- knowledge_agent_name\n",
    "- search_api_version"
   ]
  },
  {
   "cell_type": "code",
   "execution_count": 1,
   "id": "df3941f6-1f64-43b2-9eeb-ea63a1c33596",
   "metadata": {},
   "outputs": [
    {
     "name": "stdout",
     "output_type": "stream",
     "text": [
      "Environment variables have been loaded ;-)\n"
     ]
    }
   ],
   "source": [
    "import os\n",
    "from azure.identity import DefaultAzureCredential, get_bearer_token_provider\n",
    "from dotenv import load_dotenv # requires python-dotenv\n",
    "\n",
    "credential = DefaultAzureCredential()\n",
    "token_provider = get_bearer_token_provider(credential, \"https://search.azure.com/.default\")\n",
    "\n",
    "if not load_dotenv(\"./../config/credentials_my.env\"):\n",
    "    print(\"Environment variables not loaded, cell execution stopped\")\n",
    "else:\n",
    "    print(\"Environment variables have been loaded ;-)\")\n",
    "\n",
    "search_endpoint = os.environ[\"search_endpoint\"]\n",
    "aoai_endpoint = os.environ[\"aoai_endpoint\"]\n",
    "aoai_embedding_model = os.environ[\"aoai_embedding_model\"]\n",
    "aoai_embedding_deployment = os.environ[\"aoai_embedding_deployment\"]\n",
    "aoai_gpt_model = os.environ[\"aoai_gpt_model\"]\n",
    "aoai_gpt_deployment = os.environ[\"aoai_gpt_deployment\"]\n",
    "index_name = os.environ[\"index_name\"]\n",
    "knowledge_source_name = os.environ[\"knowledge_source_name\"]\n",
    "knowledge_agent_name = os.environ[\"knowledge_agent_name\"]\n",
    "search_api_version = os.environ[\"search_api_version\"]"
   ]
  },
  {
   "cell_type": "markdown",
   "id": "53f92762-874d-4f2c-a749-0a869ae3818f",
   "metadata": {},
   "source": [
    "# Create a search index\n",
    "In Azure AI Search, an index is a structured collection of data. Add and run a code cell with the following code to define an index named `earth-at-night`, which you previously specified using the index_name variable.\n",
    "\n",
    "The index schema contains fields for document identification and page content, embeddings, and numbers. The schema also includes configurations for semantic ranking and vector search, which uses your `text-embedding-3-large` deployment to vectorize text and match documents based on semantic similarity."
   ]
  },
  {
   "cell_type": "code",
   "execution_count": 2,
   "id": "5c1ec768-1e8b-42a8-af36-e28c314da583",
   "metadata": {},
   "outputs": [
    {
     "name": "stdout",
     "output_type": "stream",
     "text": [
      "Index 'earth-at-night' created or updated successfully.\n"
     ]
    }
   ],
   "source": [
    "from azure.search.documents.indexes.models import SearchIndex, SearchField, VectorSearch, VectorSearchProfile, HnswAlgorithmConfiguration, AzureOpenAIVectorizer, AzureOpenAIVectorizerParameters, SemanticSearch, SemanticConfiguration, SemanticPrioritizedFields, SemanticField\n",
    "from azure.search.documents.indexes import SearchIndexClient\n",
    "from openai import AzureOpenAI\n",
    "from azure.identity import get_bearer_token_provider\n",
    "\n",
    "azure_openai_token_provider = get_bearer_token_provider(credential, \"https://cognitiveservices.azure.com/.default\")\n",
    "index = SearchIndex(\n",
    "    name=index_name,\n",
    "    fields=[\n",
    "        SearchField(name=\"id\", type=\"Edm.String\", key=True, filterable=True, sortable=True, facetable=True),\n",
    "        SearchField(name=\"page_chunk\", type=\"Edm.String\", filterable=False, sortable=False, facetable=False),\n",
    "        SearchField(name=\"page_embedding_text_3_large\", type=\"Collection(Edm.Single)\", stored=False, vector_search_dimensions=3072, vector_search_profile_name=\"hnsw_text_3_large\"),\n",
    "        SearchField(name=\"page_number\", type=\"Edm.Int32\", filterable=True, sortable=True, facetable=True)\n",
    "    ],\n",
    "    vector_search=VectorSearch(\n",
    "        profiles=[VectorSearchProfile(name=\"hnsw_text_3_large\", algorithm_configuration_name=\"alg\", vectorizer_name=\"azure_openai_text_3_large\")],\n",
    "        algorithms=[HnswAlgorithmConfiguration(name=\"alg\")],\n",
    "        vectorizers=[\n",
    "            AzureOpenAIVectorizer(\n",
    "                vectorizer_name=\"azure_openai_text_3_large\",\n",
    "                parameters=AzureOpenAIVectorizerParameters(\n",
    "                    resource_url=aoai_endpoint,\n",
    "                    deployment_name=aoai_embedding_deployment,\n",
    "                    model_name=aoai_embedding_model\n",
    "                )\n",
    "            )\n",
    "        ]\n",
    "    ),\n",
    "    semantic_search=SemanticSearch(\n",
    "        default_configuration_name=\"semantic_config\",\n",
    "        configurations=[\n",
    "            SemanticConfiguration(\n",
    "                name=\"semantic_config\",\n",
    "                prioritized_fields=SemanticPrioritizedFields(\n",
    "                    content_fields=[\n",
    "                        SemanticField(field_name=\"page_chunk\")\n",
    "                    ]\n",
    "                )\n",
    "            )\n",
    "        ]\n",
    "    )\n",
    ")\n",
    "\n",
    "index_client = SearchIndexClient(endpoint=search_endpoint, credential=credential)\n",
    "index_client.create_or_update_index(index)\n",
    "print(f\"Index '{index_name}' created or updated successfully.\")"
   ]
  },
  {
   "cell_type": "markdown",
   "id": "e7a8759b-47cb-46cd-a2b4-0cfa421137ad",
   "metadata": {},
   "source": [
    "# Upload documents to the index\n",
    "Currently, the `earth-at-night` index is empty. Add and run a code cell with the following code to populate the index with JSON documents from [NASA's Earth at Night e-book](https://raw.githubusercontent.com/Azure-Samples/azure-search-sample-data/refs/heads/main/nasa-e-book/earth-at-night-json/documents.json). As required by Azure AI Search, each document conforms to the fields and data types defined in the index schema."
   ]
  },
  {
   "cell_type": "code",
   "execution_count": 3,
   "id": "22223521-f632-4ecf-919b-54f77fc07764",
   "metadata": {},
   "outputs": [
    {
     "name": "stdout",
     "output_type": "stream",
     "text": [
      "Documents uploaded to index 'earth-at-night' successfully.\n"
     ]
    }
   ],
   "source": [
    "import requests\n",
    "from azure.search.documents import SearchIndexingBufferedSender\n",
    "\n",
    "url = \"https://raw.githubusercontent.com/Azure-Samples/azure-search-sample-data/refs/heads/main/nasa-e-book/earth-at-night-json/documents.json\"\n",
    "documents = requests.get(url).json()\n",
    "\n",
    "with SearchIndexingBufferedSender(endpoint=search_endpoint, index_name=index_name, credential=credential) as client:\n",
    "    client.upload_documents(documents=documents)\n",
    "\n",
    "print(f\"Documents uploaded to index '{index_name}' successfully.\")"
   ]
  },
  {
   "cell_type": "markdown",
   "id": "b9519aa6-5ad7-4fa3-aa77-43e8b74a7006",
   "metadata": {},
   "source": [
    "# Create a knowledge source\n",
    "A knowledge source is a reusable reference to your source data. Add and run a code cell with the following code to define a knowledge source named `earth-knowledge-source` that targets the `earth-at-night` index.\n",
    "\n",
    "`source_data_select` specifies which index fields are accessible for retrieval and citations. Our example includes only human-readable fields to avoid lengthy, uninterpretable embeddings in responses."
   ]
  },
  {
   "cell_type": "code",
   "execution_count": 4,
   "id": "8a5a5c3c-e11c-41b6-970d-3a491953cf3b",
   "metadata": {},
   "outputs": [
    {
     "name": "stdout",
     "output_type": "stream",
     "text": [
      "Knowledge source 'earth-knowledge-source' created or updated successfully.\n"
     ]
    }
   ],
   "source": [
    "from azure.search.documents.indexes.models import SearchIndexKnowledgeSource, SearchIndexKnowledgeSourceParameters\n",
    "from azure.search.documents.indexes import SearchIndexClient\n",
    "\n",
    "ks = SearchIndexKnowledgeSource(\n",
    "    name=knowledge_source_name,\n",
    "    description=\"Knowledge source for Earth at night data\",\n",
    "    search_index_parameters=SearchIndexKnowledgeSourceParameters(\n",
    "        search_index_name=index_name,\n",
    "        source_data_select=\"id,page_chunk,page_number\",\n",
    "    ),\n",
    ")\n",
    "\n",
    "index_client = SearchIndexClient(endpoint=search_endpoint, credential=credential)\n",
    "index_client.create_or_update_knowledge_source(knowledge_source=ks, api_version=search_api_version)\n",
    "print(f\"Knowledge source '{knowledge_source_name}' created or updated successfully.\")"
   ]
  },
  {
   "cell_type": "markdown",
   "id": "6a8de46b-9c56-4ad8-81e0-fc3f6e8b2041",
   "metadata": {},
   "source": [
    "# Create a knowledge agent\n",
    "To target `earth-knowledge-source` and your `gpt-5-mini` deployment at query time, you need a knowledge agent. Add and run a code cell with the following code to define a knowledge agent named `earth-knowledge-agent`, which you previously specified using the `knowledge_agent_name` variable.\n",
    "\n",
    "`reranker_threshold` ensures semantic relevance by excluding responses with a reranker score of `2.5` or lower. Meanwhile, `modality` is set to `ANSWER_SYNTHESIS`, enabling natural-language answers that cite the retrieved documents."
   ]
  },
  {
   "cell_type": "code",
   "execution_count": 5,
   "id": "e2a51fcc-146b-4537-9fce-3de6059dabdc",
   "metadata": {},
   "outputs": [
    {
     "name": "stdout",
     "output_type": "stream",
     "text": [
      "Knowledge agent 'earth-knowledge-agent' created or updated successfully.\n"
     ]
    }
   ],
   "source": [
    "from azure.search.documents.indexes.models import KnowledgeAgent, KnowledgeAgentAzureOpenAIModel, KnowledgeSourceReference, AzureOpenAIVectorizerParameters, KnowledgeAgentOutputConfiguration, KnowledgeAgentOutputConfigurationModality\n",
    "from azure.search.documents.indexes import SearchIndexClient\n",
    "\n",
    "aoai_params = AzureOpenAIVectorizerParameters(\n",
    "    resource_url=aoai_endpoint,\n",
    "    deployment_name=aoai_gpt_deployment,\n",
    "    model_name=aoai_gpt_model,\n",
    ")\n",
    "\n",
    "output_cfg = KnowledgeAgentOutputConfiguration(\n",
    "    modality=KnowledgeAgentOutputConfigurationModality.ANSWER_SYNTHESIS,\n",
    "    include_activity=True,\n",
    ")\n",
    "\n",
    "agent = KnowledgeAgent(\n",
    "    name=knowledge_agent_name,\n",
    "    models=[KnowledgeAgentAzureOpenAIModel(azure_open_ai_parameters=aoai_params)],\n",
    "    knowledge_sources=[\n",
    "        KnowledgeSourceReference(\n",
    "            name=knowledge_source_name,\n",
    "            reranker_threshold=2.5,\n",
    "        )\n",
    "    ],\n",
    "    output_configuration=output_cfg,\n",
    ")\n",
    "\n",
    "index_client = SearchIndexClient(endpoint=search_endpoint, credential=credential)\n",
    "index_client.create_or_update_agent(agent, api_version=search_api_version)\n",
    "print(f\"Knowledge agent '{knowledge_agent_name}' created or updated successfully.\")"
   ]
  },
  {
   "cell_type": "markdown",
   "id": "d9aa1424-f4cc-4a45-9927-fc360896817e",
   "metadata": {},
   "source": [
    "# Set up messages\n",
    "Messages are the input for the retrieval route and contain the conversation history. Each message includes a role that indicates its origin, such as `system` or `user`, and content in natural language. The LLM you use determines which roles are valid.\n",
    "\n",
    "Add and run a code cell with the following code to create a system message, which instructs `earth-knowledge-agent` to answer questions about the Earth at night and respond with \"I don't know\" when answers are unavailable."
   ]
  },
  {
   "cell_type": "code",
   "execution_count": 6,
   "id": "198b7020-3b27-4c50-8390-5bf8bf5e06c6",
   "metadata": {},
   "outputs": [
    {
     "data": {
      "text/plain": [
       "[{'role': 'system',\n",
       "  'content': '\\nA Q&A agent that can answer questions about the Earth at night.\\nIf you don\\'t have the answer, respond with \"I don\\'t know\".\\n'}]"
      ]
     },
     "execution_count": 6,
     "metadata": {},
     "output_type": "execute_result"
    }
   ],
   "source": [
    "instructions = \"\"\"\n",
    "A Q&A agent that can answer questions about the Earth at night.\n",
    "If you don't have the answer, respond with \"I don't know\".\n",
    "\"\"\"\n",
    "\n",
    "messages = [\n",
    "    {\n",
    "        \"role\": \"system\",\n",
    "        \"content\": instructions\n",
    "    }\n",
    "]\n",
    "\n",
    "messages"
   ]
  },
  {
   "cell_type": "markdown",
   "id": "8dbf65e7-de9b-4d7b-9a5f-61d3630d0a95",
   "metadata": {},
   "source": [
    "# Run the retrieval pipeline\n",
    "You're ready to run agentic retrieval. Add and run a code cell with the following code to send a two-part user query to `earth-knowledge-agent`.\n",
    "\n",
    "Given the conversation history and retrieval parameters, the agent:\n",
    "\n",
    "1. Analyzes the entire conversation to infer the user's information need.\n",
    "2. Decomposes the compound query into focused subqueries.\n",
    "3. Runs the subqueries concurrently against your knowledge source.\n",
    "4. Uses semantic ranker to rerank and filter the results.\n",
    "5. Synthesizes the top results into a natural-language answer."
   ]
  },
  {
   "cell_type": "code",
   "execution_count": 7,
   "id": "beeb3ee5-dcf9-405c-96dd-0eead245e1de",
   "metadata": {},
   "outputs": [
    {
     "name": "stdout",
     "output_type": "stream",
     "text": [
      "Retrieved content from 'earth-knowledge-source' successfully.\n"
     ]
    }
   ],
   "source": [
    "from azure.search.documents.agent import KnowledgeAgentRetrievalClient\n",
    "from azure.search.documents.agent.models import KnowledgeAgentRetrievalRequest, KnowledgeAgentMessage, KnowledgeAgentMessageTextContent, SearchIndexKnowledgeSourceParams\n",
    "\n",
    "agent_client = KnowledgeAgentRetrievalClient(endpoint=search_endpoint, agent_name=knowledge_agent_name, credential=credential)\n",
    "query_1 = \"\"\"\n",
    "    Why do suburban belts display larger December brightening than urban cores even though absolute light levels are higher downtown?\n",
    "    Why is the Phoenix nighttime street grid is so sharply visible from space, whereas large stretches of the interstate between midwestern cities remain comparatively dim?\n",
    "    \"\"\"\n",
    "\n",
    "messages.append({\n",
    "    \"role\": \"user\",\n",
    "    \"content\": query_1\n",
    "})\n",
    "\n",
    "req = KnowledgeAgentRetrievalRequest(\n",
    "    messages=[\n",
    "        KnowledgeAgentMessage(\n",
    "            role=m[\"role\"],\n",
    "            content=[KnowledgeAgentMessageTextContent(text=m[\"content\"])]\n",
    "        ) for m in messages if m[\"role\"] != \"system\"\n",
    "    ],\n",
    "    knowledge_source_params=[\n",
    "        SearchIndexKnowledgeSourceParams(\n",
    "            knowledge_source_name=knowledge_source_name,\n",
    "            kind=\"searchIndex\"\n",
    "        )\n",
    "    ]\n",
    ")\n",
    "\n",
    "result = agent_client.retrieve(retrieval_request=req, api_version=search_api_version)\n",
    "print(f\"Retrieved content from '{knowledge_source_name}' successfully.\")"
   ]
  },
  {
   "cell_type": "markdown",
   "id": "90e27170-0431-4500-a842-d6d2349e0d0d",
   "metadata": {},
   "source": [
    "# Review the response, activity, and results\n",
    "Add and run a code cell with the following code to display the response, activity, and results of the retrieval pipeline."
   ]
  },
  {
   "cell_type": "code",
   "execution_count": 8,
   "id": "a9cba849-67eb-47d5-8f4c-d739a2bc277c",
   "metadata": {},
   "outputs": [
    {
     "name": "stdout",
     "output_type": "stream",
     "text": [
      "Response\n",
      "No relevant content was found to explain why suburban belts display larger December brightening than urban cores.\n",
      "Information was found that the Phoenix nighttime street grid is sharply visible from space because the metropolitan area\n",
      "is laid out on a regular grid of city blocks and streets, and that grid is most evident at night when street lighting is\n",
      "seen from low-Earth orbit [ref_id:0][ref_id:1]. Major corridors such as Grand Avenue show up as diagonal, brightly lit\n",
      "thoroughfares, and the lighting of large industrial and commercial properties plus brightly lit shopping centers, strip\n",
      "malls, and gas stations—especially at intersections—produce bright nodes that emphasize the grid pattern\n",
      "[ref_id:0][ref_id:1]. Darker, undeveloped areas (the Phoenix Mountains), agricultural fields, and the Salt River channel\n",
      "provide strong contrast that makes the illuminated street grid stand out from space [ref_id:0][ref_id:1].  No specific\n",
      "information was found that explains why long stretches of interstate between Midwestern cities remain comparatively dim.\n",
      "Activity\n",
      "[\n",
      "  {\n",
      "    \"id\": 0,\n",
      "    \"type\": \"modelQueryPlanning\",\n",
      "    \"elapsed_ms\": 10702,\n",
      "    \"input_tokens\": 2062,\n",
      "    \"output_tokens\": 1302\n",
      "  },\n",
      "  {\n",
      "    \"id\": 1,\n",
      "    \"type\": \"searchIndex\",\n",
      "    \"elapsed_ms\": 392,\n",
      "    \"knowledge_source_name\": \"earth-knowledge-source\",\n",
      "    \"query_time\": \"2025-09-26T22:36:49.421Z\",\n",
      "    \"count\": 0,\n",
      "    \"search_index_arguments\": {\n",
      "      \"search\": \"Why do suburban belts display larger December brightening than urban cores in satellite nighttime lights?\"\n",
      "    }\n",
      "  },\n",
      "  {\n",
      "    \"id\": 2,\n",
      "    \"type\": \"searchIndex\",\n",
      "    \"elapsed_ms\": 180,\n",
      "    \"knowledge_source_name\": \"earth-knowledge-source\",\n",
      "    \"query_time\": \"2025-09-26T22:36:49.602Z\",\n",
      "    \"count\": 0,\n",
      "    \"search_index_arguments\": {\n",
      "      \"search\": \"How do satellite sensor saturation, dynamic range, and nonlinear detection affect measured percentage changes in very bright urban cores versus dimmer suburbs in night-light data?\"\n",
      "    }\n",
      "  },\n",
      "  {\n",
      "    \"id\": 3,\n",
      "    \"type\": \"searchIndex\",\n",
      "    \"elapsed_ms\": 222,\n",
      "    \"knowledge_source_name\": \"earth-knowledge-source\",\n",
      "    \"query_time\": \"2025-09-26T22:36:49.825Z\",\n",
      "    \"count\": 0,\n",
      "    \"search_index_arguments\": {\n",
      "      \"search\": \"What seasonal factors (holiday/residential lighting changes, commercial lighting, snow/ground reflectance) cause December increases in nighttime light emissions in temperate regions?\"\n",
      "    }\n",
      "  },\n",
      "  {\n",
      "    \"id\": 4,\n",
      "    \"type\": \"searchIndex\",\n",
      "    \"elapsed_ms\": 180,\n",
      "    \"knowledge_source_name\": \"earth-knowledge-source\",\n",
      "    \"query_time\": \"2025-09-26T22:36:50.005Z\",\n",
      "    \"count\": 2,\n",
      "    \"search_index_arguments\": {\n",
      "      \"search\": \"Why is the Phoenix nighttime street grid sharply visible from space while long stretches of interstate between Midwestern cities remain comparatively dim? (factors: streetlight density, continuous lighting, urban form, background reflectance)\"\n",
      "    }\n",
      "  },\n",
      "  {\n",
      "    \"id\": 5,\n",
      "    \"type\": \"semanticReranker\",\n",
      "    \"input_tokens\": 96478\n",
      "  },\n",
      "  {\n",
      "    \"id\": 6,\n",
      "    \"type\": \"modelAnswerSynthesis\",\n",
      "    \"elapsed_ms\": 14512,\n",
      "    \"input_tokens\": 3207,\n",
      "    \"output_tokens\": 1575\n",
      "  }\n",
      "]\n",
      "Results\n",
      "[\n",
      "  {\n",
      "    \"type\": \"searchIndex\",\n",
      "    \"id\": \"0\",\n",
      "    \"activity_source\": 4,\n",
      "    \"reranker_score\": 2.5770757,\n",
      "    \"doc_key\": \"earth_at_night_508_page_104_verbalized\"\n",
      "  },\n",
      "  {\n",
      "    \"type\": \"searchIndex\",\n",
      "    \"id\": \"1\",\n",
      "    \"activity_source\": 4,\n",
      "    \"reranker_score\": 2.5671506,\n",
      "    \"doc_key\": \"earth_at_night_508_page_105_verbalized\"\n",
      "  }\n",
      "]\n"
     ]
    }
   ],
   "source": [
    "import textwrap\n",
    "import json\n",
    "\n",
    "print(\"Response\")\n",
    "print(textwrap.fill(result.response[0].content[0].text, width=120))\n",
    "\n",
    "print(\"Activity\")\n",
    "print(json.dumps([a.as_dict() for a in result.activity], indent=2))\n",
    "\n",
    "print(\"Results\")\n",
    "print(json.dumps([r.as_dict() for r in result.references], indent=2))"
   ]
  },
  {
   "cell_type": "markdown",
   "id": "14d1245b-24b9-4644-8502-e14f564d565f",
   "metadata": {},
   "source": [
    "# Continue the conversation\n",
    "Add and run a code cell with the following code to continue the conversation with `earth-knowledge-agent`.<br/>\n",
    "After you send this user query, the agent fetches relevant content from `earth-knowledge-sourc`e and appends the response to the `messages` list."
   ]
  },
  {
   "cell_type": "code",
   "execution_count": 9,
   "id": "ed8ef8ab-2ef5-4797-8518-6f10e0249fbd",
   "metadata": {},
   "outputs": [
    {
     "name": "stdout",
     "output_type": "stream",
     "text": [
      "Retrieved content from 'earth-knowledge-source' successfully.\n"
     ]
    }
   ],
   "source": [
    "query_2 = \"How do I find lava at night?\"\n",
    "messages.append({\n",
    "    \"role\": \"user\",\n",
    "    \"content\": query_2\n",
    "})\n",
    "\n",
    "req = KnowledgeAgentRetrievalRequest(\n",
    "    messages=[\n",
    "        KnowledgeAgentMessage(\n",
    "            role=m[\"role\"],\n",
    "            content=[KnowledgeAgentMessageTextContent(text=m[\"content\"])]\n",
    "        ) for m in messages if m[\"role\"] != \"system\"\n",
    "    ],\n",
    "    knowledge_source_params=[\n",
    "        SearchIndexKnowledgeSourceParams(\n",
    "            knowledge_source_name=knowledge_source_name,\n",
    "            kind=\"searchIndex\"\n",
    "        )\n",
    "    ]\n",
    ")\n",
    "\n",
    "result = agent_client.retrieve(retrieval_request=req, api_version=search_api_version)\n",
    "print(f\"Retrieved content from '{knowledge_source_name}' successfully.\")"
   ]
  },
  {
   "cell_type": "markdown",
   "id": "5cbedebd-224a-4289-b835-634e71b46979",
   "metadata": {},
   "source": [
    "# Review the new response, activity, and results\n",
    "Add and run a code cell with the following code to display the new response, activity, and results of the retrieval pipeline."
   ]
  },
  {
   "cell_type": "code",
   "execution_count": 10,
   "id": "0f4d1711-f212-4fa5-9c49-c824ec4626be",
   "metadata": {},
   "outputs": [
    {
     "name": "stdout",
     "output_type": "stream",
     "text": [
      "Response\n",
      "To find lava at night, use satellite night-light and thermal observations together:  - Look for bright nighttime glow in\n",
      "VIIRS Day/Night Band (DNB) imagery — lava shows up as a distinct bright spot against city lights (example: Etna lava\n",
      "seen by VIIRS on 16 Mar 2017) [ref_id:1][ref_id:2]. - Use thermal-infrared data (e.g., Landsat 8 TIRS and OLI) to detect\n",
      "the heat signature of active vents and lava flows — thermal imagery highlights hot areas even when visible light is\n",
      "limited [ref_id:0]. - Combine nightlight (VIIRS DNB) and thermal (OLI/TIRS) images for the most complete view of\n",
      "nighttime volcanic activity [ref_id:0]. - Note that faint natural light sources such as moonlight, airglow, and\n",
      "starlight enable the DNB to detect nighttime features, improving detection of lava glow and related clouds or plumes\n",
      "[ref_id:0].  Examples: VIIRS captured Etna’s nighttime lava glow (16 Mar 2017) and Landsat 8’s OLI/TIRS mapped Etna’s\n",
      "active vent and thermal lava signature (image acquired 28 Dec 2018) [ref_id:1][ref_id:2][ref_id:0].\n",
      "Activity\n",
      "[\n",
      "  {\n",
      "    \"id\": 0,\n",
      "    \"type\": \"modelQueryPlanning\",\n",
      "    \"elapsed_ms\": 5775,\n",
      "    \"input_tokens\": 2074,\n",
      "    \"output_tokens\": 567\n",
      "  },\n",
      "  {\n",
      "    \"id\": 1,\n",
      "    \"type\": \"searchIndex\",\n",
      "    \"elapsed_ms\": 204,\n",
      "    \"knowledge_source_name\": \"earth-knowledge-source\",\n",
      "    \"query_time\": \"2025-09-26T22:37:10.895Z\",\n",
      "    \"count\": 3,\n",
      "    \"search_index_arguments\": {\n",
      "      \"search\": \"how to find active lava flows at night using satellite imagery and remote sensing\"\n",
      "    }\n",
      "  },\n",
      "  {\n",
      "    \"id\": 2,\n",
      "    \"type\": \"searchIndex\",\n",
      "    \"elapsed_ms\": 240,\n",
      "    \"knowledge_source_name\": \"earth-knowledge-source\",\n",
      "    \"query_time\": \"2025-09-26T22:37:11.136Z\",\n",
      "    \"count\": 0,\n",
      "    \"search_index_arguments\": {\n",
      "      \"search\": \"how to locate lava at night on the ground: signs, techniques, and safety precautions\"\n",
      "    }\n",
      "  },\n",
      "  {\n",
      "    \"id\": 3,\n",
      "    \"type\": \"searchIndex\",\n",
      "    \"elapsed_ms\": 323,\n",
      "    \"knowledge_source_name\": \"earth-knowledge-source\",\n",
      "    \"query_time\": \"2025-09-26T22:37:11.459Z\",\n",
      "    \"count\": 1,\n",
      "    \"search_index_arguments\": {\n",
      "      \"search\": \"thermal imaging and infrared cameras for detecting lava at night: specifications and best practices\"\n",
      "    }\n",
      "  },\n",
      "  {\n",
      "    \"id\": 4,\n",
      "    \"type\": \"searchIndex\",\n",
      "    \"elapsed_ms\": 190,\n",
      "    \"knowledge_source_name\": \"earth-knowledge-source\",\n",
      "    \"query_time\": \"2025-09-26T22:37:11.650Z\",\n",
      "    \"count\": 0,\n",
      "    \"search_index_arguments\": {\n",
      "      \"search\": \"legal and safety guidelines and warnings for approaching active lava flows at night, and volcano observatory alerts\"\n",
      "    }\n",
      "  },\n",
      "  {\n",
      "    \"id\": 5,\n",
      "    \"type\": \"semanticReranker\",\n",
      "    \"input_tokens\": 88734\n",
      "  },\n",
      "  {\n",
      "    \"id\": 6,\n",
      "    \"type\": \"modelAnswerSynthesis\",\n",
      "    \"elapsed_ms\": 10304,\n",
      "    \"input_tokens\": 4138,\n",
      "    \"output_tokens\": 1133\n",
      "  }\n",
      "]\n",
      "Results\n",
      "[\n",
      "  {\n",
      "    \"type\": \"searchIndex\",\n",
      "    \"id\": \"0\",\n",
      "    \"activity_source\": 1,\n",
      "    \"reranker_score\": 2.678454,\n",
      "    \"doc_key\": \"earth_at_night_508_page_46_verbalized\"\n",
      "  },\n",
      "  {\n",
      "    \"type\": \"searchIndex\",\n",
      "    \"id\": \"1\",\n",
      "    \"activity_source\": 1,\n",
      "    \"reranker_score\": 2.5558076,\n",
      "    \"doc_key\": \"earth_at_night_508_page_64_verbalized\"\n",
      "  },\n",
      "  {\n",
      "    \"type\": \"searchIndex\",\n",
      "    \"id\": \"2\",\n",
      "    \"activity_source\": 1,\n",
      "    \"reranker_score\": 2.5350711,\n",
      "    \"doc_key\": \"earth_at_night_508_page_65_verbalized\"\n",
      "  }\n",
      "]\n"
     ]
    }
   ],
   "source": [
    "import textwrap\n",
    "import json\n",
    "\n",
    "print(\"Response\")\n",
    "print(textwrap.fill(result.response[0].content[0].text, width=120))\n",
    "\n",
    "print(\"Activity\")\n",
    "print(json.dumps([a.as_dict() for a in result.activity], indent=2))\n",
    "\n",
    "print(\"Results\")\n",
    "print(json.dumps([r.as_dict() for r in result.references], indent=2))"
   ]
  },
  {
   "cell_type": "markdown",
   "id": "525509ea-79cf-4ac1-846a-a1819073ec5f",
   "metadata": {},
   "source": [
    "# Clean up resources\n",
    "When you work in your own subscription, it's a good idea to finish a project by determining whether you still need the resources you created. Resources that are left running can cost you money.\n",
    "\n",
    "In the Azure portal, you can manage your Azure AI Search and Azure AI Foundry resources by selecting All resources or Resource groups from the left pane.\n",
    "\n",
    "Otherwise, add and run code cells with the following code to delete the objects you created in this quickstart."
   ]
  },
  {
   "cell_type": "markdown",
   "id": "7c1f6c2e-7616-4441-a949-cd336323ee4c",
   "metadata": {},
   "source": [
    "## Delete the knowledge agent"
   ]
  },
  {
   "cell_type": "code",
   "execution_count": 11,
   "id": "19e048a0-f668-4a7a-9fd7-ac4fc4abc082",
   "metadata": {},
   "outputs": [
    {
     "name": "stdout",
     "output_type": "stream",
     "text": [
      "Knowledge agent 'earth-knowledge-agent' deleted successfully.\n"
     ]
    }
   ],
   "source": [
    "from azure.search.documents.indexes import SearchIndexClient\n",
    "\n",
    "index_client = SearchIndexClient(endpoint=search_endpoint, credential=credential)\n",
    "index_client.delete_agent(knowledge_agent_name)\n",
    "print(f\"Knowledge agent '{knowledge_agent_name}' deleted successfully.\")"
   ]
  },
  {
   "cell_type": "markdown",
   "id": "b3a1b4ad-82f2-41a2-947e-06ddd4f2ff2e",
   "metadata": {},
   "source": [
    "## Delete the knowledge source"
   ]
  },
  {
   "cell_type": "code",
   "execution_count": 12,
   "id": "2e83b336-10bc-4d08-a078-40a48fe5ec77",
   "metadata": {},
   "outputs": [
    {
     "name": "stdout",
     "output_type": "stream",
     "text": [
      "Knowledge source 'earth-knowledge-source' deleted successfully.\n"
     ]
    }
   ],
   "source": [
    "from azure.search.documents.indexes import SearchIndexClient\n",
    "\n",
    "index_client = SearchIndexClient(endpoint=search_endpoint, credential=credential)\n",
    "index_client.delete_knowledge_source(knowledge_source=knowledge_source_name)\n",
    "print(f\"Knowledge source '{knowledge_source_name}' deleted successfully.\")"
   ]
  },
  {
   "cell_type": "markdown",
   "id": "173bcd5c-1ba9-448c-aef7-9d2f654809de",
   "metadata": {},
   "source": [
    "## Delete the search index"
   ]
  },
  {
   "cell_type": "code",
   "execution_count": 13,
   "id": "b018b731-5b71-448b-9c5e-4539313f767c",
   "metadata": {},
   "outputs": [
    {
     "name": "stdout",
     "output_type": "stream",
     "text": [
      "Index 'earth-at-night' deleted successfully.\n"
     ]
    }
   ],
   "source": [
    "from azure.search.documents.indexes import SearchIndexClient\n",
    "\n",
    "index_client = SearchIndexClient(endpoint=search_endpoint, credential=credential)\n",
    "index_client.delete_index(index_name)\n",
    "print(f\"Index '{index_name}' deleted successfully.\")"
   ]
  }
 ],
 "metadata": {
  "kernelspec": {
   "display_name": "agentic_retrieval",
   "language": "python",
   "name": "agentic_retrieval"
  },
  "language_info": {
   "codemirror_mode": {
    "name": "ipython",
    "version": 3
   },
   "file_extension": ".py",
   "mimetype": "text/x-python",
   "name": "python",
   "nbconvert_exporter": "python",
   "pygments_lexer": "ipython3",
   "version": "3.13.7"
  }
 },
 "nbformat": 4,
 "nbformat_minor": 5
}
